{
 "cells": [
  {
   "cell_type": "code",
   "execution_count": 81,
   "id": "6d7749c6",
   "metadata": {},
   "outputs": [],
   "source": [
    "import numpy as np\n",
    "import pandas as pd"
   ]
  },
  {
   "cell_type": "code",
   "execution_count": 82,
   "id": "bc54165a",
   "metadata": {},
   "outputs": [],
   "source": [
    "def normalize(a):\n",
    "    sum = 0\n",
    "    for i in range(0, len(a)):\n",
    "        val = a[i][0]\n",
    "        sum += val\n",
    "    for i in range(0, len(a)):\n",
    "        a[i][0] = a[i][0]/sum\n",
    "    return a"
   ]
  },
  {
   "cell_type": "code",
   "execution_count": 83,
   "id": "33d060e5",
   "metadata": {},
   "outputs": [],
   "source": [
    "#wait represents for a person "
   ]
  },
  {
   "cell_type": "code",
   "execution_count": 84,
   "id": "eb259414",
   "metadata": {},
   "outputs": [],
   "source": [
    "# \\lamda \\epsilon as described"
   ]
  },
  {
   "cell_type": "code",
   "execution_count": 85,
   "id": "88c915a5",
   "metadata": {},
   "outputs": [],
   "source": [
    "x = np.random.randint(100, size = (4,1))"
   ]
  },
  {
   "cell_type": "code",
   "execution_count": 115,
   "id": "9859e908",
   "metadata": {
    "scrolled": true
   },
   "outputs": [
    {
     "name": "stdout",
     "output_type": "stream",
     "text": [
      "[[91]\n",
      " [40]\n",
      " [ 1]\n",
      " [54]]\n"
     ]
    }
   ],
   "source": [
    "sum = 0\n",
    "for i in range(0, len(a)):\n",
    "    val = a[i][0]\n",
    "    sum += val\n",
    "print(a)"
   ]
  }
 ],
 "metadata": {
  "kernelspec": {
   "display_name": "Python 3 (ipykernel)",
   "language": "python",
   "name": "python3"
  },
  "language_info": {
   "codemirror_mode": {
    "name": "ipython",
    "version": 3
   },
   "file_extension": ".py",
   "mimetype": "text/x-python",
   "name": "python",
   "nbconvert_exporter": "python",
   "pygments_lexer": "ipython3",
   "version": "3.9.7"
  }
 },
 "nbformat": 4,
 "nbformat_minor": 5
}
