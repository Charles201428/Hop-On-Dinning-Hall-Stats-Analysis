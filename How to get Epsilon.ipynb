{
 "cells": [
  {
   "cell_type": "code",
   "execution_count": 355,
   "id": "ca789ecb",
   "metadata": {},
   "outputs": [],
   "source": [
    "#this file is a demonstration how we process related\\epsilon from a given dataset"
   ]
  },
  {
   "cell_type": "code",
   "execution_count": 369,
   "id": "3c2ceee8",
   "metadata": {},
   "outputs": [],
   "source": [
    "import scipy.integrate as integrate\n",
    "import matplotlib.pyplot as plt\n",
    "import numpy as np\n",
    "import pandas as pd"
   ]
  },
  {
   "cell_type": "code",
   "execution_count": 357,
   "id": "7fb7fc60",
   "metadata": {},
   "outputs": [],
   "source": [
    "#calculating the mean\n",
    "def mean(lst):\n",
    "    a = 0\n",
    "    b = 0\n",
    "    c = 0\n",
    "    d = 0\n",
    "    for i in range(0,len(lst)):\n",
    "        a += lst[i][0]\n",
    "        b += lst[i][1]\n",
    "        c += lst[i][2]\n",
    "        d += lst[i][3]\n",
    "    a = a/len(lst)\n",
    "    b = b/len(lst)\n",
    "    c = c/len(lst)\n",
    "    d = d/len(lst)\n",
    "    e = np.array([[a],[b],[c],[d]])\n",
    "    return e\n"
   ]
  },
  {
   "cell_type": "code",
   "execution_count": 358,
   "id": "33ed0dc3",
   "metadata": {},
   "outputs": [],
   "source": [
    "#sum of an array\n",
    "def sum(a):\n",
    "    s = 0\n",
    "    for i in range(0, len(a)):\n",
    "        s+=a[i][0]\n",
    "    return s\n",
    "        "
   ]
  },
  {
   "cell_type": "code",
   "execution_count": 359,
   "id": "61a5706f",
   "metadata": {},
   "outputs": [],
   "source": [
    "#normalizing function\n",
    "def normalize(a):\n",
    "    sum = 0\n",
    "    for i in range(0, len(a)):\n",
    "        val = a[i][0]\n",
    "        sum += val\n",
    "    for i in range(0, len(a)):\n",
    "        a[i][0] = a[i][0]/sum\n",
    "    return a"
   ]
  },
  {
   "cell_type": "code",
   "execution_count": 360,
   "id": "8b073dfe",
   "metadata": {},
   "outputs": [],
   "source": [
    "#convert a given int array to float array\n",
    "def convert(a):\n",
    "    f = np.array([[0.0071708 ],\n",
    " [0.2809648 ],\n",
    " [0.58083442],\n",
    " [0.13102999]])\n",
    "    for i in range(0,4):\n",
    "        f[i][0] = float(a[i][0])\n",
    "    return f\n"
   ]
  },
  {
   "cell_type": "code",
   "execution_count": 361,
   "id": "c963c1ca",
   "metadata": {},
   "outputs": [
    {
     "name": "stdout",
     "output_type": "stream",
     "text": [
      "[[[1.        ]]\n",
      "\n",
      " [[0.49494949]]\n",
      "\n",
      " [[0.48484848]]\n",
      "\n",
      " [[0.46464646]]]\n"
     ]
    }
   ],
   "source": [
    "#store whether they will go to each section\n",
    "lt = []\n",
    "for i in range(0,99):\n",
    "    x = np.random.choice([0,1], size = (4,1))\n",
    "    x[0][0] = 1\n",
    "    copy = convert(x)\n",
    "    lt.append(copy)\n",
    "mean_whether = mean(lt)\n",
    "print(mean_whether)"
   ]
  },
  {
   "cell_type": "code",
   "execution_count": 362,
   "id": "bf57e7ed",
   "metadata": {},
   "outputs": [],
   "source": [
    "#store the 100 wait value\n",
    "lst = []\n",
    "for i in range(0,99):\n",
    "    y = x = np.random.randint(17, size = (4,1))\n",
    "    copy = convert(y)\n",
    "    lst.append(y)\n",
    "mean_wait = mean(lst)\n"
   ]
  },
  {
   "cell_type": "code",
   "execution_count": 363,
   "id": "95021201",
   "metadata": {},
   "outputs": [],
   "source": [
    "#the sum of corresponding product"
   ]
  },
  {
   "cell_type": "code",
   "execution_count": 364,
   "id": "bca7f5e0",
   "metadata": {},
   "outputs": [],
   "source": [
    "#define the function for product\n",
    "def time(a,b):\n",
    "    sum = 0\n",
    "    for i in range(0,4):\n",
    "        val = a[i][0] * b[i][0]\n",
    "        sum += val\n",
    "    return sum"
   ]
  },
  {
   "cell_type": "code",
   "execution_count": 365,
   "id": "7e0e6013",
   "metadata": {},
   "outputs": [
    {
     "name": "stdout",
     "output_type": "stream",
     "text": [
      "[[[0.24210803]]\n",
      "\n",
      " [[0.23391358]]\n",
      "\n",
      " [[0.25020002]]\n",
      "\n",
      " [[0.27377838]]]\n"
     ]
    }
   ],
   "source": [
    "#store the pop value\n",
    "pop = []\n",
    "for i in range(0,99):\n",
    "    y = np.random.randint(100, size = (4,1))\n",
    "    copy = normalize(convert(y))\n",
    "    pop.append(copy)\n",
    "mean_pop = mean(pop)\n",
    "print(mean_pop)"
   ]
  },
  {
   "cell_type": "code",
   "execution_count": 366,
   "id": "a3f8ff02",
   "metadata": {},
   "outputs": [
    {
     "name": "stdout",
     "output_type": "stream",
     "text": [
      "[1575.]\n"
     ]
    }
   ],
   "source": [
    "product = 0\n",
    "for i in range(0,99):\n",
    "    loopproduct = time(lt[i],lst[i])\n",
    "    product += loopproduct/sum(mean_whether)*2 #the coefficient is given by observation\n",
    "print(product)\n",
    "#then this gives the expected time for a person to get "
   ]
  },
  {
   "cell_type": "code",
   "execution_count": 367,
   "id": "cd33ab31",
   "metadata": {},
   "outputs": [],
   "source": [
    "#time for each section in this dataset\n",
    "seciton1 = product*mean_pop[0][0]\n",
    "section2 = product*mean_pop[1][0]\n",
    "section3 = product*mean_pop[2][0]\n",
    "section4 = product*mean_pop[3][0]"
   ]
  },
  {
   "cell_type": "code",
   "execution_count": 368,
   "id": "f31ed624",
   "metadata": {},
   "outputs": [
    {
     "name": "stdout",
     "output_type": "stream",
     "text": [
      "[15.75]\n"
     ]
    }
   ],
   "source": [
    "#the product cell gives us \\epsilon\n",
    "epsilon = product/100\n",
    "print(epsilon)"
   ]
  }
 ],
 "metadata": {
  "kernelspec": {
   "display_name": "Python 3 (ipykernel)",
   "language": "python",
   "name": "python3"
  },
  "language_info": {
   "codemirror_mode": {
    "name": "ipython",
    "version": 3
   },
   "file_extension": ".py",
   "mimetype": "text/x-python",
   "name": "python",
   "nbconvert_exporter": "python",
   "pygments_lexer": "ipython3",
   "version": "3.9.7"
  }
 },
 "nbformat": 4,
 "nbformat_minor": 5
}
