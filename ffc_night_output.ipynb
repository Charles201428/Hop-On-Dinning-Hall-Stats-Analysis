{
 "cells": [
  {
   "cell_type": "code",
   "execution_count": 1,
   "id": "7f52e02e",
   "metadata": {},
   "outputs": [],
   "source": [
    "import numpy as np\n",
    "import pandas as pd\n",
    "from scipy.integrate import odeint\n",
    "import numpy as np\n",
    "import matplotlib.pyplot as plt\n",
    "\n",
    "from numpy import sqrt, pi, sin, cos"
   ]
  },
  {
   "cell_type": "code",
   "execution_count": 2,
   "id": "9419b864",
   "metadata": {},
   "outputs": [],
   "source": [
    "#represent I'(t), since we have no access to swipte-in count now, let's assume this is a piece-wise constant function\n",
    "def i_prime(t):\n",
    "    if t<10:\n",
    "        return 11\n",
    "    elif t<20:\n",
    "        return 7\n",
    "    elif t<30:\n",
    "        return 4\n",
    "    else:\n",
    "        return 1"
   ]
  },
  {
   "cell_type": "code",
   "execution_count": 3,
   "id": "7b6e1be3",
   "metadata": {},
   "outputs": [],
   "source": [
    "#manifest the Q'(t)\n",
    "\n",
    "def q_prime(y,t):\n",
    "    return i_prime(t)-90/15.7"
   ]
  },
  {
   "cell_type": "code",
   "execution_count": 4,
   "id": "d844db39",
   "metadata": {},
   "outputs": [],
   "source": [
    "#right side of the ODE of Q(t)"
   ]
  },
  {
   "cell_type": "code",
   "execution_count": 5,
   "id": "219ba7ad",
   "metadata": {},
   "outputs": [],
   "source": [
    "#inital value and time span\n",
    "y_0 = 0\n",
    "t = np.linspace(0,40)"
   ]
  },
  {
   "cell_type": "code",
   "execution_count": 6,
   "id": "6ac54f11",
   "metadata": {},
   "outputs": [
    {
     "data": {
      "image/png": "[encoded data removed]",
      "text/plain": [
       "<Figure size 432x288 with 1 Axes>"
      ]
     },
     "metadata": {
      "needs_background": "light"
     },
     "output_type": "display_data"
    }
   ],
   "source": [
    "#people gives us the number of people in line\n",
    "people = odeint(q_prime,y_0,t)\n",
    "plt.plot(t,people)\n",
    "plt.xlabel('time')\n",
    "plt.ylabel('people(t)')\n",
    "plt.show()"
   ]
  },
  {
   "cell_type": "code",
   "execution_count": 7,
   "id": "97c91a53",
   "metadata": {},
   "outputs": [],
   "source": [
    "#total time\n",
    "total_time = 15.7/60*people"
   ]
  },
  {
   "cell_type": "code",
   "execution_count": 8,
   "id": "a6cc27f6",
   "metadata": {},
   "outputs": [],
   "source": [
    "#recall from last file, the populatiry is formed as follow:\n",
    "popularity = np.array([[0.24210803],\n",
    "\n",
    " [0.23391358],\n",
    "\n",
    " [0.25020002],\n",
    "\n",
    " [0.27377838]])\n",
    "\n",
    "times = []\n",
    "for i in range(0,4):\n",
    "    times.append(total_time*popularity[i])"
   ]
  },
  {
   "cell_type": "code",
   "execution_count": 9,
   "id": "2a5d07b0",
   "metadata": {},
   "outputs": [],
   "source": [
    "section1 = times[0]\n",
    "section2 = times[1]\n",
    "section3 = times[2]\n",
    "section3 = times[3]"
   ]
  },
  {
   "cell_type": "code",
   "execution_count": 10,
   "id": "b4f8e579",
   "metadata": {},
   "outputs": [],
   "source": [
    "#the overall time\n",
    "overall_time = total_time/4"
   ]
  },
  {
   "cell_type": "code",
   "execution_count": 11,
   "id": "5bbd18ed",
   "metadata": {},
   "outputs": [],
   "source": [
    "def crowd(y,t):\n",
    "    k = -1/35\n",
    "    dydt = i_prime(t) + k*y\n",
    "    return dydt"
   ]
  },
  {
   "cell_type": "code",
   "execution_count": 12,
   "id": "0436a7f2",
   "metadata": {},
   "outputs": [
    {
     "data": {
      "image/png": "[encoded data removed]",
      "text/plain": [
       "<Figure size 432x288 with 1 Axes>"
      ]
     },
     "metadata": {
      "needs_background": "light"
     },
     "output_type": "display_data"
    }
   ],
   "source": [
    "crowds = odeint(crowd,y_0,t)\n",
    "plt.plot(t,crowds)\n",
    "plt.xlabel('time')\n",
    "plt.ylabel('Crowd(t)')\n",
    "plt.show()"
   ]
  },
  {
   "cell_type": "code",
   "execution_count": 13,
   "id": "7acd6171",
   "metadata": {},
   "outputs": [],
   "source": [
    "np.savetxt(\n",
    "\"night FFC_total number of people in ffc\",\n",
    "               crowds,\n",
    "              fmt='%.18e',\n",
    "              delimiter=' ',\n",
    "              newline='\\n',\n",
    "              header=' ',\n",
    "              footer=' ',\n",
    "              comments= '#',\n",
    "              encoding=None\n",
    "             )"
   ]
  },
  {
   "cell_type": "code",
   "execution_count": 14,
   "id": "c934cb66",
   "metadata": {},
   "outputs": [],
   "source": [
    "np.savetxt(\n",
    "\"night FFC_overall waiting time\",\n",
    "               overall_time,\n",
    "              fmt='%.18e',\n",
    "              delimiter=' ',\n",
    "              newline='\\n',\n",
    "              header=' ',\n",
    "              footer=' ',\n",
    "              comments= '#',\n",
    "              encoding=None\n",
    "             )"
   ]
  },
  {
   "cell_type": "code",
   "execution_count": 15,
   "id": "27ec775d",
   "metadata": {},
   "outputs": [],
   "source": [
    "np.savetxt(\n",
    "\"night FFC_section1\",\n",
    "               section1,\n",
    "              fmt='%.18e',\n",
    "              delimiter=' ',\n",
    "              newline='\\n',\n",
    "              header=' ',\n",
    "              footer=' ',\n",
    "              comments= '#',\n",
    "              encoding=None\n",
    "             )"
   ]
  },
  {
   "cell_type": "code",
   "execution_count": 16,
   "id": "b82f300c",
   "metadata": {},
   "outputs": [],
   "source": [
    "np.savetxt(\n",
    "\"night FFC_section2\",\n",
    "               section2,\n",
    "              fmt='%.18e',\n",
    "              delimiter=' ',\n",
    "              newline='\\n',\n",
    "              header=' ',\n",
    "              footer=' ',\n",
    "              comments= '#',\n",
    "              encoding=None\n",
    "             )"
   ]
  },
  {
   "cell_type": "code",
   "execution_count": 17,
   "id": "129c191f",
   "metadata": {},
   "outputs": [],
   "source": [
    "np.savetxt(\n",
    "\"night FFC_section3\",\n",
    "               section3,\n",
    "              fmt='%.18e',\n",
    "              delimiter=' ',\n",
    "              newline='\\n',\n",
    "              header=' ',\n",
    "              footer=' ',\n",
    "              comments= '#',\n",
    "              encoding=None\n",
    "             )"
   ]
  },
  {
   "cell_type": "code",
   "execution_count": 18,
   "id": "784729ab",
   "metadata": {},
   "outputs": [],
   "source": [
    "np.savetxt(\n",
    "\"night FFC_section 4\",\n",
    "               crowds,\n",
    "              fmt='%.18e',\n",
    "              delimiter=' ',\n",
    "              newline='\\n',\n",
    "              header=' ',\n",
    "              footer=' ',\n",
    "              comments= '#',\n",
    "              encoding=None\n",
    "             )"
   ]
  },
  {
   "cell_type": "code",
   "execution_count": 19,
   "id": "cb288d65",
   "metadata": {},
   "outputs": [],
   "source": [
    "np.savetxt(\n",
    "\"night FFC_time_span\",\n",
    "               t,\n",
    "              fmt='%.18e',\n",
    "              delimiter=' ',\n",
    "              newline='\\n',\n",
    "              header=' ',\n",
    "              footer=' ',\n",
    "              comments= '#',\n",
    "              encoding=None\n",
    "             )"
   ]
  }
 ],
 "metadata": {
  "kernelspec": {
   "display_name": "Python 3 (ipykernel)",
   "language": "python",
   "name": "python3"
  },
  "language_info": {
   "codemirror_mode": {
    "name": "ipython",
    "version": 3
   },
   "file_extension": ".py",
   "mimetype": "text/x-python",
   "name": "python",
   "nbconvert_exporter": "python",
   "pygments_lexer": "ipython3",
   "version": "3.9.7"
  }
 },
 "nbformat": 4,
 "nbformat_minor": 5
}
